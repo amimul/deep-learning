{
 "cells": [
  {
   "cell_type": "markdown",
   "metadata": {},
   "source": [
    "# Project 2 - creating neural net from scratch\n",
    "\n",
    "The objective of this project is to design a mini “deep learning framework” using only pytorch’s tensor operations and the standard math library, hence in particular without using autograd or the neural-network modules.\n",
    "\n",
    "Your framework should import only `torch.FloatTensor` and `torch.LongTensor` from pytorch, and use no pre-existing neural-network python toolbox."
   ]
  },
  {
   "cell_type": "code",
   "execution_count": 1,
   "metadata": {},
   "outputs": [],
   "source": [
    "# Definitely allowed imports\n",
    "import math\n",
    "import torch\n",
    "from torch import FloatTensor, LongTensor, Tensor\n",
    "# additional imports\n",
    "\n",
    "\n",
    "# our own written code"
   ]
  },
  {
   "cell_type": "markdown",
   "metadata": {},
   "source": [
    "## Generate datasets\n",
    "\n",
    "Generate a training and a test set of 1,000 points sampled uniformly in [0,1]2, each with a\n",
    "label 0 if outside the disk of radius 1/ 2π and 1 inside,"
   ]
  },
  {
   "cell_type": "code",
   "execution_count": 143,
   "metadata": {},
   "outputs": [],
   "source": [
    "def generate_disc_data(n=1000):\n",
    "    inputs = torch.rand(n,2)\n",
    "    euclidian_distances = torch.norm((inputs - torch.Tensor([[0.5, 0.5]])).abs(), 2, 1, True)\n",
    "    targets = euclidian_distances.mul(math.sqrt(2*math.pi)).sub(1).sign().sub(1).div(2).abs().long()\n",
    "    return inputs, targets"
   ]
  },
  {
   "cell_type": "code",
   "execution_count": 144,
   "metadata": {},
   "outputs": [
    {
     "name": "stdout",
     "output_type": "stream",
     "text": [
      "\n",
      " 0.4061\n",
      " 0.3824\n",
      " 0.4093\n",
      "   ⋮    \n",
      " 0.4705\n",
      " 0.3898\n",
      " 0.0445\n",
      "[torch.FloatTensor of size 1000x1]\n",
      "\n"
     ]
    },
    {
     "data": {
      "text/plain": [
       "(\n",
       "  0.7600  0.1881\n",
       "  0.6077  0.1331\n",
       "  0.7716  0.1938\n",
       "        ⋮        \n",
       "  0.4142  0.9626\n",
       "  0.1142  0.4441\n",
       "  0.5361  0.4739\n",
       " [torch.FloatTensor of size 1000x2], \n",
       "     0\n",
       "     1\n",
       "     0\n",
       "   ⋮   \n",
       "     0\n",
       "     1\n",
       "     1\n",
       " [torch.LongTensor of size 1000x1])"
      ]
     },
     "execution_count": 144,
     "metadata": {},
     "output_type": "execute_result"
    }
   ],
   "source": [
    "inputs, targets = generate_disc_data()\n",
    "inputs, targets"
   ]
  },
  {
   "cell_type": "code",
   "execution_count": null,
   "metadata": {},
   "outputs": [],
   "source": []
  }
 ],
 "metadata": {
  "kernelspec": {
   "display_name": "Python 3",
   "language": "python",
   "name": "python3"
  },
  "language_info": {
   "codemirror_mode": {
    "name": "ipython",
    "version": 3
   },
   "file_extension": ".py",
   "mimetype": "text/x-python",
   "name": "python",
   "nbconvert_exporter": "python",
   "pygments_lexer": "ipython3",
   "version": "3.6.2"
  }
 },
 "nbformat": 4,
 "nbformat_minor": 2
}
