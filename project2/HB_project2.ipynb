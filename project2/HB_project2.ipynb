{
 "cells": [
  {
   "cell_type": "markdown",
   "metadata": {},
   "source": [
    "# Project 2 - creating neural net from scratch\n",
    "\n",
    "The objective of this project is to design a mini “deep learning framework” using only pytorch’s tensor operations and the standard math library, hence in particular without using autograd or the neural-network modules.\n",
    "\n",
    "Your framework should import only `torch.FloatTensor` and `torch.LongTensor` from pytorch, and use no pre-existing neural-network python toolbox.\n"
   ]
  },
  {
   "cell_type": "markdown",
   "metadata": {},
   "source": [
    "-------------\n",
    "# /////////////TODO/////////////\n",
    "\n",
    "- start on the report\n",
    "- create plot of decisionline with model and data as input (for better debugging and insight)\n",
    "- create Relu()-module\n",
    "- create proper MSEloss()-module\n",
    "- create train_model() or similar\n",
    "- create split_dataset() or similar >>>CHECK<<<\n",
    "- create the net they request\n",
    "\n",
    "-------------------------------------\n",
    "-------------------------------------"
   ]
  },
  {
   "cell_type": "code",
   "execution_count": null,
   "metadata": {},
   "outputs": [],
   "source": [
    "# Definitely allowed imports\n",
    "import math\n",
    "import torch\n",
    "from torch import FloatTensor, LongTensor, Tensor\n",
    "# additional imports\n",
    "import matplotlib.pyplot as plt\n",
    "import matplotlib\n",
    "import numpy as np\n",
    "\n",
    "\n",
    "# our own written code\n",
    "import helpers as HL\n",
    "\n",
    "# jupyter magic\n",
    "%load_ext autoreload\n",
    "%autoreload 2"
   ]
  },
  {
   "cell_type": "markdown",
   "metadata": {},
   "source": [
    "## Generate datasets\n",
    "\n",
    "Generate a training and a test set of 1,000 points sampled uniformly in [0,1]2, each with a\n",
    "label 0 if outside the disk of radius 1/ 2π and 1 inside,"
   ]
  },
  {
   "cell_type": "code",
   "execution_count": null,
   "metadata": {},
   "outputs": [],
   "source": [
    "linear_inputs, linear_targets = HL.generate_linear_data()\n",
    "print(linear_inputs.shape, linear_targets.shape)\n",
    "\n",
    "# plot the data\n",
    "plt.scatter(linear_inputs[:,0].numpy(), linear_inputs[:,1].numpy(), c=np.squeeze(linear_targets.numpy()))\n",
    "plt.show()"
   ]
  },
  {
   "cell_type": "code",
   "execution_count": null,
   "metadata": {},
   "outputs": [],
   "source": [
    "inputs, targets = HL.generate_disc_data(n=1000)\n",
    "print(inputs.shape, targets.shape)\n",
    "\n",
    "# plot the data\n",
    "plt.scatter(inputs[:,0].numpy(), inputs[:,1].numpy(), c=targets.numpy())\n",
    "plt.show()"
   ]
  },
  {
   "cell_type": "markdown",
   "metadata": {},
   "source": [
    "## Build a network\n",
    "...with `2` input units, `2` output units, `3` hidden layers of `25` units"
   ]
  },
  {
   "cell_type": "markdown",
   "metadata": {},
   "source": [
    "Some modules may requires additional methods, and some modules may keep track of information\n",
    "from the forward pass to be used in the backward.\n",
    "You should implement at least the modules: `Linear` (fully connected layer), `ReLU` , `Tanh` , `Sequential`  to combine several modules in basic sequential structure, and LossMSE to compute the MSE loss."
   ]
  },
  {
   "cell_type": "markdown",
   "metadata": {},
   "source": [
    "### Splitting dataset"
   ]
  },
  {
   "cell_type": "code",
   "execution_count": null,
   "metadata": {},
   "outputs": [],
   "source": [
    "# comment out if you want non-linear dataset:\n",
    "inputs, targets = linear_inputs, linear_targets\n",
    "\n",
    "# split the dataset into train and and test data\n",
    "train_inputs, train_targets, test_inputs, test_targets = HL.split_dataset(inputs, targets, train_perc=0.7)\n",
    "print(train_inputs.size(), train_targets.size(), test_inputs.size(), test_targets.size())"
   ]
  },
  {
   "cell_type": "code",
   "execution_count": null,
   "metadata": {},
   "outputs": [],
   "source": [
    "# plot the data\n",
    "plt.scatter(train_inputs[:,0].numpy(), train_inputs[:,1].numpy(), c=train_targets.numpy())\n",
    "plt.show()\n",
    "\n",
    "plt.scatter(test_inputs[:,0].numpy(), test_inputs[:,1].numpy(), c=test_targets.numpy())\n",
    "plt.show()"
   ]
  },
  {
   "cell_type": "markdown",
   "metadata": {},
   "source": [
    "# Training"
   ]
  },
  {
   "cell_type": "code",
   "execution_count": null,
   "metadata": {},
   "outputs": [],
   "source": [
    "# useful information\n",
    "nb_train_samples = train_inputs.size(0)\n",
    "nb_classes = train_targets.size(1)\n",
    "input_dim = train_inputs.size(1)\n",
    "print(\"nb_train_samples: \", nb_train_samples)\n",
    "print(\"nb_classes: \", nb_classes)\n",
    "print(\"input_dim: \", input_dim)\n",
    "\n",
    "# define model and optimizer\n",
    "model = HL.Linear_regression_model(input_dim=input_dim, output_dim=nb_classes)\n",
    "print(\"model.parameters: \", model.param())\n",
    "\n",
    "model, train_error_list, test_error_list = HL.train_model(train_inputs, train_targets, test_inputs, test_targets, \n",
    "                                                       model, learning_rate=0.001, epochs=100)\n"
   ]
  },
  {
   "cell_type": "markdown",
   "metadata": {},
   "source": [
    "## Analysing results"
   ]
  },
  {
   "cell_type": "code",
   "execution_count": null,
   "metadata": {},
   "outputs": [],
   "source": [
    "#plotting\n",
    "plt.plot(train_error_list)\n",
    "plt.plot(test_error_list)\n",
    "plt.legend(['train_error', 'test_error'], loc='upper right')\n",
    "plt.show()"
   ]
  },
  {
   "cell_type": "code",
   "execution_count": null,
   "metadata": {},
   "outputs": [],
   "source": []
  }
 ],
 "metadata": {
  "kernelspec": {
   "display_name": "Python 3",
   "language": "python",
   "name": "python3"
  },
  "language_info": {
   "codemirror_mode": {
    "name": "ipython",
    "version": 3
   },
   "file_extension": ".py",
   "mimetype": "text/x-python",
   "name": "python",
   "nbconvert_exporter": "python",
   "pygments_lexer": "ipython3",
   "version": "3.6.2"
  }
 },
 "nbformat": 4,
 "nbformat_minor": 2
}
