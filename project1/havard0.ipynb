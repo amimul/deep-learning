{
 "cells": [
  {
   "cell_type": "markdown",
   "metadata": {},
   "source": [
    "# Miniproject 1\n",
    "Fingermovements predicting"
   ]
  },
  {
   "cell_type": "code",
   "execution_count": null,
   "metadata": {
    "collapsed": true
   },
   "outputs": [],
   "source": [
    "# IMPORTS\n",
    "import numpy as np\n",
    "import sklearn\n",
    "import matplotlib as plt\n",
    "import torch\n",
    "from torch import Tensor, nn\n",
    "from torch.autograd import Variable"
   ]
  },
  {
   "cell_type": "markdown",
   "metadata": {},
   "source": [
    "#### Importing data"
   ]
  },
  {
   "cell_type": "code",
   "execution_count": null,
   "metadata": {},
   "outputs": [],
   "source": [
    "import dlc_bci as bci\n",
    "train_input , train_target = bci.load(root = './ data_bci')\n",
    "print ( str ( type ( train_input ) ) , train_input.size() )\n",
    "print ( str ( type ( train_target ) ) , train_target.size() )\n",
    "test_input , test_target = bci.load(root = './ data_bci', train = False)\n",
    "print ( str ( type ( test_input ) ) , test_input.size())\n",
    "print ( str ( type ( test_target ) ) , test_target.size())"
   ]
  },
  {
   "cell_type": "code",
   "execution_count": null,
   "metadata": {},
   "outputs": [],
   "source": [
    "# flatten the dimensions with 28 features with 50 samples per feature into 1400 \"features\"\n",
    "train_input.view(-1, train_input.size()[1]*train_input.size()[2]).size()"
   ]
  },
  {
   "cell_type": "markdown",
   "metadata": {},
   "source": [
    "### Define linear model"
   ]
  },
  {
   "cell_type": "code",
   "execution_count": null,
   "metadata": {},
   "outputs": [],
   "source": [
    "def DenseNet(input_dim, output_dim, nb_hidden_layers=1, hidden_width=100):\n",
    "    if nb_hidden_layers < 1:\n",
    "        print(\"you need at least one hidden layer\")\n",
    "        model = None\n",
    "    else:\n",
    "        layers = []\n",
    "        layers.append(nn.Linear(input_dim, hidden_width))\n",
    "        layers.append(nn.ReLU())\n",
    "        for i in range(nb_hidden_layers-1):\n",
    "            layers.append(nn.Linear(hidden_width, hidden_width))\n",
    "            layers.append(nn.ReLU())\n",
    "        layers.append(nn.Linear(hidden_width, output_dim))\n",
    "        layers.append(nn.Sigmoid())\n",
    "        \n",
    "        model = torch.nn.Sequential(*layers)\n",
    "    return model\n",
    "    "
   ]
  },
  {
   "cell_type": "code",
   "execution_count": null,
   "metadata": {
    "collapsed": true
   },
   "outputs": [],
   "source": [
    "\n",
    "class Linear_regression_model(nn.Module):\n",
    "    def __init__(self, input_dim, output_dim):\n",
    "        super(Linear_regression_model, self).__init__() # Inherited from the parent class nn.Module\n",
    "        self.fc1 = nn.Linear(input_dim, output_dim) # 1st Full-Connected Layer: 784 (input data) -> 10 (output class\n",
    "        self.sig = nn.Sigmoid()\n",
    "        \n",
    "    def forward(self, x): # Forward pass: stacking each layer together\n",
    "        out = self.fc1(x)\n",
    "        out = self.sig(out)\n",
    "        return out"
   ]
  },
  {
   "cell_type": "markdown",
   "metadata": {},
   "source": [
    "### Create different models model and define loss criterion and optimizer"
   ]
  },
  {
   "cell_type": "code",
   "execution_count": null,
   "metadata": {},
   "outputs": [],
   "source": [
    "\n",
    "input_dim = train_input.size()[1]*train_input.size()[2]\n",
    "output_dim = 1\n",
    "nb_hidden_layers = 2\n",
    "hidden_width = 500\n",
    "# initialize the model\n",
    "densemodel_1 = DenseNet(input_dim, output_dim)\n",
    "linear_model = Linear_regression_model(input_dim, output_dim)\n"
   ]
  },
  {
   "cell_type": "markdown",
   "metadata": {},
   "source": [
    "### Choose model and define loss criterion and optimizer"
   ]
  },
  {
   "cell_type": "code",
   "execution_count": null,
   "metadata": {
    "collapsed": true
   },
   "outputs": [],
   "source": [
    "\n",
    "model = densemodel_1\n",
    "# define loss criterion\n",
    "criterion = nn.MSELoss()\n",
    "# define optimizer function and input based on model\n",
    "learning_rate = 0.0001\n",
    "optimizer = torch.optim.SGD(model.parameters(), lr=learning_rate)"
   ]
  },
  {
   "cell_type": "markdown",
   "metadata": {},
   "source": [
    "### Training model"
   ]
  },
  {
   "cell_type": "code",
   "execution_count": null,
   "metadata": {},
   "outputs": [],
   "source": [
    "epochs = 100000 #2000\n",
    "\n",
    "for epoch in range(epochs):\n",
    "    epoch += 1\n",
    "    \n",
    "    inputs = Variable(train_input.view(-1, train_input.size()[1]*train_input.size()[2]))\n",
    "    labels = Variable(train_target.float())\n",
    "    \n",
    "    # clear gradients\n",
    "    optimizer.zero_grad()\n",
    "    \n",
    "    outputs = model.forward(inputs)\n",
    "    loss = criterion(outputs, labels)\n",
    "    loss.backward() # \"backpropagation\" only one layer\n",
    "    optimizer.step() # updates parameters in model\n",
    "    preds = outputs.round().abs().view(-1)\n",
    "    #print(preds)\n",
    "    #print(labels)\n",
    "    if epoch % 1000 == 0:\n",
    "        print(\"error percantage: \", (int(sum((preds != labels)))/ 316))\n",
    "        print('epoch {}, loss {}'.format(epoch,loss.data[0]))\n",
    "    \n",
    "    # linear model got 0.012 - 0.020 error with lr=0.0001, MSE with 100000 epochs\n",
    "    # densemodel_1 got 0.005 - 0.009 error with lr=0.0001, MSE with 10000 epochs"
   ]
  },
  {
   "cell_type": "code",
   "execution_count": null,
   "metadata": {},
   "outputs": [],
   "source": []
  },
  {
   "cell_type": "code",
   "execution_count": null,
   "metadata": {
    "collapsed": true
   },
   "outputs": [],
   "source": []
  }
 ],
 "metadata": {
  "kernelspec": {
   "display_name": "Python 3",
   "language": "python",
   "name": "python3"
  },
  "language_info": {
   "codemirror_mode": {
    "name": "ipython",
    "version": 3
   },
   "file_extension": ".py",
   "mimetype": "text/x-python",
   "name": "python",
   "nbconvert_exporter": "python",
   "pygments_lexer": "ipython3",
   "version": "3.6.2"
  }
 },
 "nbformat": 4,
 "nbformat_minor": 2
}
